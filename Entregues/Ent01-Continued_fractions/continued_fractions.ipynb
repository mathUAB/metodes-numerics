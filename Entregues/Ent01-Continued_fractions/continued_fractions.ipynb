{
 "cells": [
  {
   "cell_type": "markdown",
   "metadata": {},
   "source": [
    "### Programa per calcular les diferents fraccions que aproximen e"
   ]
  },
  {
   "cell_type": "code",
   "execution_count": 3,
   "metadata": {},
   "outputs": [
    {
     "data": {
      "text/plain": [
       "[2; 1, 2, 1, 1, 4, 1, 1, 6, 1, 1, 8, 1, 1, 10, 1, 1, 12, 1, 1, ...]"
      ]
     },
     "execution_count": 3,
     "metadata": {},
     "output_type": "execute_result"
    }
   ],
   "source": [
    "L=continued_fraction(e);L"
   ]
  },
  {
   "cell_type": "code",
   "execution_count": 16,
   "metadata": {},
   "outputs": [],
   "source": [
    "def aproximacio(k):\n",
    "    L=continued_fraction(e);\n",
    "    r=[]\n",
    "    i=0;\n",
    "    while i<k+1:\n",
    "        G=[L[j] for j in range(0,i+1)]\n",
    "        i=i+1\n",
    "        s=continued_fraction(G).value()\n",
    "        r.append(s)\n",
    "    r=[(r[i],abs(e-r[i]).n()) for i in range (0,k+1)]\n",
    "    return r"
   ]
  },
  {
   "cell_type": "code",
   "execution_count": 17,
   "metadata": {},
   "outputs": [
    {
     "data": {
      "text/plain": [
       "[(2, 0.718281828459045),\n",
       " (3, 0.281718171540955),\n",
       " (8/3, 0.0516151617923786),\n",
       " (11/4, 0.0317181715409549),\n",
       " (19/7, 0.00399611417333068),\n",
       " (87/32, 0.000468171540954909),\n",
       " (106/39, 0.000333110510327028),\n",
       " (193/71, 0.0000280306958844179),\n",
       " (1264/465, 2.25856657198875e-6),\n",
       " (1457/536, 1.75363050702870e-6),\n",
       " (2721/1001, 1.10177326817507e-7),\n",
       " (23225/8544, 6.74694744517979e-9),\n",
       " (25946/9545, 5.51509549140405e-9),\n",
       " (49171/18089, 2.76650702346615e-10),\n",
       " (517656/190435, 1.36437527942235e-11),\n",
       " (566827/208524, 1.15387699395342e-11),\n",
       " (1084483/398959, 4.81836792687318e-13),\n",
       " (13580623/4996032, 1.99840144432528e-14),\n",
       " (14665106/5394991, 1.68753899743024e-14),\n",
       " (28245729/10391023, 8.88178419700125e-16),\n",
       " (410105312/150869313, 0.000000000000000)]"
      ]
     },
     "execution_count": 17,
     "metadata": {},
     "output_type": "execute_result"
    }
   ],
   "source": [
    "aproximacio(20)"
   ]
  }
 ],
 "metadata": {
  "kernelspec": {
   "display_name": "SageMath 9.1",
   "language": "sage",
   "name": "sagemath"
  },
  "language_info": {
   "codemirror_mode": {
    "name": "ipython",
    "version": 3
   },
   "file_extension": ".py",
   "mimetype": "text/x-python",
   "name": "python",
   "nbconvert_exporter": "python",
   "pygments_lexer": "ipython3",
   "version": "3.7.3"
  }
 },
 "nbformat": 4,
 "nbformat_minor": 2
}
