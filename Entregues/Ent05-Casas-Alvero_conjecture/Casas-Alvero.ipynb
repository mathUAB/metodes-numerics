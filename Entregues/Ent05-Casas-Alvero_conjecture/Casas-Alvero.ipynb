{
 "cells": [
  {
   "cell_type": "code",
   "execution_count": 98,
   "metadata": {},
   "outputs": [],
   "source": [
    "from sage.rings.polynomial.complex_roots import complex_roots\n",
    "x = polygen(CC)\n",
    "def convexhull(p):\n",
    "    L=p.roots(CC)\n",
    "    dp=p.diff(x)\n",
    "    dL=dp.roots(CC)\n",
    "    p1=sum(point((real_part(L[i][0]),imag_part(L[i][0])),size=18,color='blue') for i in range(0,len(L)))\n",
    "    p2=sum(point((real_part(dL[i][0]),imag_part(dL[i][0])),size=18,color='red') for i in range(0,len(dL)))\n",
    "    return p1+p2"
   ]
  },
  {
   "cell_type": "code",
   "execution_count": 99,
   "metadata": {},
   "outputs": [
    {
     "data": {
      "image/png": "[encoded data removed]",
      "text/plain": [
       "Graphics object consisting of 9 graphics primitives"
      ]
     },
     "execution_count": 99,
     "metadata": {},
     "output_type": "execute_result"
    }
   ],
   "source": [
    "q=4+7*x+65*x^2-4*x^4+2*x^5\n",
    "convexhull(q)"
   ]
  },
  {
   "cell_type": "code",
   "execution_count": 71,
   "metadata": {},
   "outputs": [],
   "source": [
    "deg=7\n",
    "L=[random()+random()*i for k in range(0,deg)]"
   ]
  },
  {
   "cell_type": "code",
   "execution_count": 90,
   "metadata": {},
   "outputs": [],
   "source": [
    "p=prod((x-L[i]) for i in range(0,len(L)))\n",
    "dp=p.diff(x).factor()\n",
    "ddp=p.diff(x,2).factor()\n",
    "dddp=p.diff(x,3).factor()\n",
    "ddddp=p.diff(x,4).factor()\n",
    "dddddp=p.diff(x,5).factor()\n",
    "ddddddp=p.diff(x,6).factor()"
   ]
  },
  {
   "cell_type": "code",
   "execution_count": 84,
   "metadata": {},
   "outputs": [
    {
     "data": {
      "text/plain": [
       "[(0.273994495981102, 0.186176450319403),\n",
       " (0.765699868206733, 0.0284062266659330),\n",
       " (0.357383151761803, 0.00556170295068669),\n",
       " (0.708283194910822, 0.515710545020349),\n",
       " (0.583390911966438, 0.852776648628168),\n",
       " (0.979617456644666, 0.167189780830185),\n",
       " (0.715180650502866, 0.507858210223678)]"
      ]
     },
     "execution_count": 84,
     "metadata": {},
     "output_type": "execute_result"
    }
   ],
   "source": [
    "L=[sol[x].n() for sol in solve(p,x,solution_dict=True,to_poly_solve=True)]\n",
    "LL=[(real_part(L[i]),imag_part(L[i])) for i in range(len(L))]\n",
    "LL"
   ]
  },
  {
   "cell_type": "code",
   "execution_count": 85,
   "metadata": {},
   "outputs": [
    {
     "data": {
      "text/plain": [
       "[(0.359908840521433, 0.110906133283701),\n",
       " (0.467301068685808, 0.180480753356880),\n",
       " (0.875599534585322, 0.180547528121021),\n",
       " (0.740283555202187, 0.186102022861078),\n",
       " (0.711678729697426, 0.511767467331605),\n",
       " (0.602556611285908, 0.770492864735773)]"
      ]
     },
     "execution_count": 85,
     "metadata": {},
     "output_type": "execute_result"
    }
   ],
   "source": [
    "M=[sol[x].n() for sol in solve(dp,x,solution_dict=True,to_poly_solve=True)]\n",
    "MM=[(real_part(M[i]),imag_part(M[i])) for i in range(len(M))]\n",
    "MM"
   ]
  },
  {
   "cell_type": "code",
   "execution_count": 86,
   "metadata": {},
   "outputs": [
    {
     "data": {
      "text/plain": [
       "[(0.401759991747606, 0.136734190794295),\n",
       " (0.823154960469712, 0.189899471336153),\n",
       " (0.592346170961881, 0.208921954473726),\n",
       " (0.693081292476643, 0.395877685650098),\n",
       " (0.620764534325893, 0.685480672487444)]"
      ]
     },
     "execution_count": 86,
     "metadata": {},
     "output_type": "execute_result"
    }
   ],
   "source": [
    "N=[sol[x].n() for sol in solve(ddp,x,solution_dict=True,to_poly_solve=True)]\n",
    "NN=[(real_part(N[i]),imag_part(N[i])) for i in range(len(N))]\n",
    "NN"
   ]
  },
  {
   "cell_type": "code",
   "execution_count": 88,
   "metadata": {},
   "outputs": [
    {
     "data": {
      "text/plain": [
       "[(0.464791407528653, 0.168563329007147),\n",
       " (0.631134354340961, 0.594966070221000),\n",
       " (0.655516595964506, 0.303551216294726),\n",
       " (0.753443202151270, 0.226450564270501)]"
      ]
     },
     "execution_count": 88,
     "metadata": {},
     "output_type": "execute_result"
    }
   ],
   "source": [
    "O=[sol[x].n() for sol in solve(dddp,x,solution_dict=True,to_poly_solve=True)]\n",
    "OO=[(real_part(O[i]),imag_part(O[i])) for i in range(len(O))]\n",
    "OO"
   ]
  },
  {
   "cell_type": "code",
   "execution_count": 92,
   "metadata": {},
   "outputs": [
    {
     "data": {
      "text/plain": [
       "[(0.533026906161904, 0.212248322457599),\n",
       " (0.636379411441283, 0.500093134524015),\n",
       " (0.709257852385854, 0.257806927863416)]"
      ]
     },
     "execution_count": 92,
     "metadata": {},
     "output_type": "execute_result"
    }
   ],
   "source": [
    "P=[sol[x].n() for sol in solve(ddddp,x,solution_dict=True,to_poly_solve=True)]\n",
    "PP=[(real_part(P[i]),imag_part(P[i])) for i in range(len(P))]\n",
    "PP"
   ]
  },
  {
   "cell_type": "code",
   "execution_count": 93,
   "metadata": {},
   "outputs": [
    {
     "data": {
      "text/plain": [
       "[(0.611269451208838, 0.248621484799864),\n",
       " (0.641173328783858, 0.398144105096823)]"
      ]
     },
     "execution_count": 93,
     "metadata": {},
     "output_type": "execute_result"
    }
   ],
   "source": [
    "Q=[sol[x].n() for sol in solve(dddddp,x,solution_dict=True,to_poly_solve=True)]\n",
    "QQ=[(real_part(Q[i]),imag_part(Q[i])) for i in range(len(Q))]\n",
    "QQ"
   ]
  },
  {
   "cell_type": "code",
   "execution_count": 95,
   "metadata": {},
   "outputs": [
    {
     "data": {
      "text/plain": [
       "[(0.626221389996348, 0.323382794948343)]"
      ]
     },
     "execution_count": 95,
     "metadata": {},
     "output_type": "execute_result"
    }
   ],
   "source": [
    "R=[sol[x].n() for sol in solve(ddddddp,x,solution_dict=True,to_poly_solve=True)]\n",
    "RR=[(real_part(R[i]),imag_part(R[i])) for i in range(len(R))]\n",
    "RR"
   ]
  },
  {
   "cell_type": "code",
   "execution_count": 89,
   "metadata": {},
   "outputs": [
    {
     "data": {
      "text/plain": [
       "(x - 0.273994495981102 - 0.186176450319403*I)*(x - 0.357383151761803 - 0.00556170295068669*I)*(x - 0.583390911966438 - 0.852776648628168*I)*(x - 0.708283194910822 - 0.515710545020349*I)*(x - 0.715180650502866 - 0.507858210223678*I)*(x - 0.765699868206733 - 0.0284062266659330*I)*(x - 0.979617456644666 - 0.167189780830185*I)"
      ]
     },
     "execution_count": 89,
     "metadata": {},
     "output_type": "execute_result"
    }
   ],
   "source": [
    "p"
   ]
  },
  {
   "cell_type": "code",
   "execution_count": 1,
   "metadata": {},
   "outputs": [
    {
     "data": {
      "text/plain": [
       "(b1, b2, b3, c1, c2)"
      ]
     },
     "execution_count": 1,
     "metadata": {},
     "output_type": "execute_result"
    }
   ],
   "source": [
    "var('b1 b2 b3 c1 c2')"
   ]
  },
  {
   "cell_type": "code",
   "execution_count": 2,
   "metadata": {},
   "outputs": [],
   "source": [
    "p=(x-b1)^2*(x-b2)*(x-b3)\n",
    "dp=(x-b1)*(x-c1)*(x-c2)\n",
    "ddp=(x-b2)^2\n",
    "dddp=(x-b2)"
   ]
  },
  {
   "cell_type": "code",
   "execution_count": 12,
   "metadata": {},
   "outputs": [],
   "source": [
    "Ddp=dp.diff(x).expand()\n",
    "DDdp=dp.diff(x,2).expand()"
   ]
  },
  {
   "cell_type": "code",
   "execution_count": 13,
   "metadata": {},
   "outputs": [
    {
     "data": {
      "text/plain": [
       "b1*c1 + (b1 + c1)*c2 - 2*(b1 + c1 + c2)*x + 3*x^2"
      ]
     },
     "execution_count": 13,
     "metadata": {},
     "output_type": "execute_result"
    }
   ],
   "source": [
    "Ddp.simplify_full()"
   ]
  },
  {
   "cell_type": "code",
   "execution_count": 14,
   "metadata": {},
   "outputs": [
    {
     "data": {
      "text/plain": [
       "-2*b1 - 2*c1 - 2*c2 + 6*x"
      ]
     },
     "execution_count": 14,
     "metadata": {},
     "output_type": "execute_result"
    }
   ],
   "source": [
    "DDdp.simplify_full()"
   ]
  },
  {
   "cell_type": "code",
   "execution_count": 26,
   "metadata": {},
   "outputs": [],
   "source": [
    "Dp=p.diff(x).expand()\n",
    "DDDp=p.diff(x,3).expand()"
   ]
  },
  {
   "cell_type": "code",
   "execution_count": 18,
   "metadata": {},
   "outputs": [
    {
     "data": {
      "text/plain": [
       "-(b1*b2 + b1*b3 + 2*b2*b3 - 2*b1*x - 3*b2*x - 3*b3*x + 4*x^2)*(b1 - x)"
      ]
     },
     "execution_count": 18,
     "metadata": {},
     "output_type": "execute_result"
    }
   ],
   "source": [
    "Dp.factor()"
   ]
  },
  {
   "cell_type": "code",
   "execution_count": 27,
   "metadata": {},
   "outputs": [
    {
     "data": {
      "text/plain": [
       "-12*b1 - 6*b2 - 6*b3 + 24*x"
      ]
     },
     "execution_count": 27,
     "metadata": {},
     "output_type": "execute_result"
    }
   ],
   "source": [
    "DDDp"
   ]
  },
  {
   "cell_type": "code",
   "execution_count": null,
   "metadata": {},
   "outputs": [],
   "source": []
  },
  {
   "cell_type": "code",
   "execution_count": 30,
   "metadata": {},
   "outputs": [],
   "source": [
    "equations=[(b1*c1 + (b1 + c1)*c2)/3==b2^2,(b1 + c1 + c2)/3==b2,(2*b1+3*b2+3*b3)/4==c1+c2,(b1*b2 + b1*b3 + 2*b2*b3)/4==c1*c2]"
   ]
  },
  {
   "cell_type": "code",
   "execution_count": 31,
   "metadata": {},
   "outputs": [
    {
     "data": {
      "text/plain": [
       "[[b1 == r9, b2 == r9, b3 == r9, c1 == r9, c2 == r9], [b1 == 0, b2 == 0, b3 == 0, c1 == 0, c2 == 0]]"
      ]
     },
     "execution_count": 31,
     "metadata": {},
     "output_type": "execute_result"
    }
   ],
   "source": [
    "solve(equations,b1,b2,b3,c1,c2)"
   ]
  },
  {
   "cell_type": "code",
   "execution_count": null,
   "metadata": {},
   "outputs": [],
   "source": []
  }
 ],
 "metadata": {
  "kernelspec": {
   "display_name": "SageMath 9.1",
   "language": "sage",
   "name": "sagemath"
  },
  "language_info": {
   "codemirror_mode": {
    "name": "ipython",
    "version": 3
   },
   "file_extension": ".py",
   "mimetype": "text/x-python",
   "name": "python",
   "nbconvert_exporter": "python",
   "pygments_lexer": "ipython3",
   "version": "3.7.3"
  }
 },
 "nbformat": 4,
 "nbformat_minor": 2
}
